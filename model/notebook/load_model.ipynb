{
 "cells": [
  {
   "cell_type": "code",
   "execution_count": null,
   "id": "d5892c24",
   "metadata": {},
   "outputs": [],
   "source": [
    "import pickle\n",
    "import pandas as pd"
   ]
  },
  {
   "cell_type": "code",
   "execution_count": null,
   "id": "ad85cfd4",
   "metadata": {},
   "outputs": [],
   "source": [
    "model_path = \"../model_objects/model.pkl\"\n",
    "model_gbr_path = \"../model_objects/model_gbr.pkl\"\n",
    "mileage_sclaer_path = \"../model_objects/mileage_sclaer.pkl\"\n",
    "all_columns_path = \"../model_objects/all_columns.pkl\""
   ]
  },
  {
   "cell_type": "code",
   "execution_count": null,
   "id": "366df388",
   "metadata": {},
   "outputs": [],
   "source": [
    "# with open(model_path, 'rb') as f:\n",
    "#     model = pickle.load(f)\n",
    "    \n",
    "with open(model_gbr_path, 'rb') as f:\n",
    "    model = pickle.load(f)\n",
    "    \n",
    "with open(mileage_sclaer_path, 'rb') as f:\n",
    "    mileage_sclaer = pickle.load(f)\n",
    "\n",
    "with open(all_columns_path, 'rb') as f:\n",
    "    all_cols = pickle.load(f)"
   ]
  },
  {
   "cell_type": "code",
   "execution_count": null,
   "id": "bdc37d29",
   "metadata": {},
   "outputs": [],
   "source": [
    "inp1 = {\n",
    "    \"Mileage\": 170000,\n",
    "    \"Manufacturer\": \"Ford\",\n",
    "    \"Model\": \"Escape\", \n",
    "    \"Prod. year\": 2010,\n",
    "    \"Engine volume\": 6\n",
    "    }\n",
    "inp2 = {\n",
    "    \"Mileage\": 40000,\n",
    "    \"Manufacturer\": \"Toyota\",\n",
    "    \"Model\": \"Camry\", \n",
    "    \"Prod. year\": 2010, \n",
    "    \"Engine volume\": 6\n",
    "    }\n",
    "data = [inp1]"
   ]
  },
  {
   "cell_type": "code",
   "execution_count": null,
   "id": "c3038b8c",
   "metadata": {},
   "outputs": [],
   "source": [
    "df_test = pd.DataFrame(data)\n",
    "df_test"
   ]
  },
  {
   "cell_type": "code",
   "execution_count": null,
   "id": "1e259ea4",
   "metadata": {},
   "outputs": [],
   "source": [
    "df_test['Manufacturer'] = df_test['Manufacturer'].astype('category')\n",
    "df_test['Model'] = df_test['Model'].astype('category')\n",
    "df_test['Engine volume'] = df_test['Engine volume'].astype('category')"
   ]
  },
  {
   "cell_type": "code",
   "execution_count": null,
   "id": "b21a5452",
   "metadata": {},
   "outputs": [],
   "source": [
    "X = df_test[\"Mileage\"].values.reshape(-1, 1)\n",
    "scaledX = mileage_sclaer.transform(X)\n",
    "print(scaledX)"
   ]
  },
  {
   "cell_type": "code",
   "execution_count": null,
   "id": "f77bfaec",
   "metadata": {},
   "outputs": [],
   "source": [
    "df_test[\"Mileage\"] = scaledX"
   ]
  },
  {
   "cell_type": "code",
   "execution_count": null,
   "id": "d7cf522e",
   "metadata": {},
   "outputs": [],
   "source": [
    "categorical_columns = [\"Manufacturer\" ,\"Model\", \"Engine volume\"]\n",
    "df_encoded = pd.get_dummies(df_test, columns=categorical_columns)\n",
    "df_encoded.head()"
   ]
  },
  {
   "cell_type": "code",
   "execution_count": null,
   "id": "3da1f410",
   "metadata": {},
   "outputs": [],
   "source": [
    "record = df_encoded.to_dict(orient=\"records\")[0]\n",
    "features = {} # df_test.to_dict(orient=\"records\")[0]\n",
    "# del features[\"Manufacturer\"]\n",
    "# del features[\"Model\"]\n",
    "# print(features)\n",
    "for col in all_cols:\n",
    "    if col not in df_encoded.columns:\n",
    "        features.update({col: 0})\n",
    "    else:\n",
    "        features.update({col: record[col]})\n",
    "df_test = pd.Series(features)\n",
    "df_test.shape"
   ]
  },
  {
   "cell_type": "code",
   "execution_count": null,
   "id": "b0dfb8b5",
   "metadata": {},
   "outputs": [],
   "source": [
    "X_test = df_test.values.reshape(1, -1)\n",
    "pred = model.predict(X_test)\n",
    "print(pred)"
   ]
  },
  {
   "cell_type": "code",
   "execution_count": null,
   "id": "bb39d0a1",
   "metadata": {},
   "outputs": [],
   "source": [
    "df_test"
   ]
  },
  {
   "cell_type": "code",
   "execution_count": null,
   "id": "eabcae0a",
   "metadata": {},
   "outputs": [],
   "source": []
  }
 ],
 "metadata": {
  "kernelspec": {
   "display_name": "Python 3 (ipykernel)",
   "language": "python",
   "name": "python3"
  },
  "language_info": {
   "codemirror_mode": {
    "name": "ipython",
    "version": 3
   },
   "file_extension": ".py",
   "mimetype": "text/x-python",
   "name": "python",
   "nbconvert_exporter": "python",
   "pygments_lexer": "ipython3",
   "version": "3.9.7"
  }
 },
 "nbformat": 4,
 "nbformat_minor": 5
}
