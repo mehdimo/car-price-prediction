{
 "cells": [
  {
   "cell_type": "code",
   "execution_count": 1,
   "id": "d5892c24",
   "metadata": {},
   "outputs": [],
   "source": [
    "import pickle\n",
    "import pandas as pd"
   ]
  },
  {
   "cell_type": "code",
   "execution_count": 2,
   "id": "ad85cfd4",
   "metadata": {},
   "outputs": [],
   "source": [
    "model_path = \"../app/model_objects/model.pkl\"\n",
    "model_gbr_path = \"../app/model_objects/model_gbr.pkl\"\n",
    "mileage_sclaer_path = \"../app/model_objects/mileage_sclaer.pkl\"\n",
    "all_columns_path = \"../app/model_objects/all_columns.pkl\""
   ]
  },
  {
   "cell_type": "code",
   "execution_count": 3,
   "id": "366df388",
   "metadata": {},
   "outputs": [],
   "source": [
    "# with open(model_path, 'rb') as f:\n",
    "#     model = pickle.load(f)\n",
    "    \n",
    "with open(model_gbr_path, 'rb') as f:\n",
    "    model = pickle.load(f)\n",
    "    \n",
    "with open(mileage_sclaer_path, 'rb') as f:\n",
    "    mileage_sclaer = pickle.load(f)\n",
    "\n",
    "with open(all_columns_path, 'rb') as f:\n",
    "    all_cols = pickle.load(f)"
   ]
  },
  {
   "cell_type": "code",
   "execution_count": 4,
   "id": "bdc37d29",
   "metadata": {},
   "outputs": [],
   "source": [
    "inp1 = {\n",
    "    \"Mileage\": 170000,\n",
    "    \"Manufacturer\": \"Ford\",\n",
    "    \"Model\": \"Escape\", \n",
    "    \"Prod. year\": 2010,\n",
    "    \"Engine volume\": 6\n",
    "    }\n",
    "inp2 = {\n",
    "    \"Mileage\": 40000,\n",
    "    \"Manufacturer\": \"Toyota\",\n",
    "    \"Model\": \"Camry\", \n",
    "    \"Prod. year\": 2010, \n",
    "    \"Engine volume\": 6\n",
    "    }\n",
    "data = [inp1]"
   ]
  },
  {
   "cell_type": "code",
   "execution_count": 5,
   "id": "c3038b8c",
   "metadata": {},
   "outputs": [
    {
     "data": {
      "text/html": [
       "<div>\n",
       "<style scoped>\n",
       "    .dataframe tbody tr th:only-of-type {\n",
       "        vertical-align: middle;\n",
       "    }\n",
       "\n",
       "    .dataframe tbody tr th {\n",
       "        vertical-align: top;\n",
       "    }\n",
       "\n",
       "    .dataframe thead th {\n",
       "        text-align: right;\n",
       "    }\n",
       "</style>\n",
       "<table border=\"1\" class=\"dataframe\">\n",
       "  <thead>\n",
       "    <tr style=\"text-align: right;\">\n",
       "      <th></th>\n",
       "      <th>Mileage</th>\n",
       "      <th>Manufacturer</th>\n",
       "      <th>Model</th>\n",
       "      <th>Prod. year</th>\n",
       "      <th>Engine volume</th>\n",
       "    </tr>\n",
       "  </thead>\n",
       "  <tbody>\n",
       "    <tr>\n",
       "      <th>0</th>\n",
       "      <td>170000</td>\n",
       "      <td>Ford</td>\n",
       "      <td>Escape</td>\n",
       "      <td>2010</td>\n",
       "      <td>6</td>\n",
       "    </tr>\n",
       "  </tbody>\n",
       "</table>\n",
       "</div>"
      ],
      "text/plain": [
       "   Mileage Manufacturer   Model  Prod. year  Engine volume\n",
       "0   170000         Ford  Escape        2010              6"
      ]
     },
     "execution_count": 5,
     "metadata": {},
     "output_type": "execute_result"
    }
   ],
   "source": [
    "df_test = pd.DataFrame(data)\n",
    "df_test"
   ]
  },
  {
   "cell_type": "code",
   "execution_count": 6,
   "id": "1e259ea4",
   "metadata": {},
   "outputs": [],
   "source": [
    "df_test['Manufacturer'] = df_test['Manufacturer'].astype('category')\n",
    "df_test['Model'] = df_test['Model'].astype('category')\n",
    "df_test['Engine volume'] = df_test['Engine volume'].astype('category')"
   ]
  },
  {
   "cell_type": "code",
   "execution_count": 7,
   "id": "b21a5452",
   "metadata": {},
   "outputs": [
    {
     "name": "stdout",
     "output_type": "stream",
     "text": [
      "[[0.48561716]]\n"
     ]
    }
   ],
   "source": [
    "X = df_test[\"Mileage\"].values.reshape(-1, 1)\n",
    "scaledX = mileage_sclaer.transform(X)\n",
    "print(scaledX)"
   ]
  },
  {
   "cell_type": "code",
   "execution_count": 8,
   "id": "f77bfaec",
   "metadata": {},
   "outputs": [],
   "source": [
    "df_test[\"Mileage\"] = scaledX"
   ]
  },
  {
   "cell_type": "code",
   "execution_count": 9,
   "id": "d7cf522e",
   "metadata": {},
   "outputs": [
    {
     "data": {
      "text/html": [
       "<div>\n",
       "<style scoped>\n",
       "    .dataframe tbody tr th:only-of-type {\n",
       "        vertical-align: middle;\n",
       "    }\n",
       "\n",
       "    .dataframe tbody tr th {\n",
       "        vertical-align: top;\n",
       "    }\n",
       "\n",
       "    .dataframe thead th {\n",
       "        text-align: right;\n",
       "    }\n",
       "</style>\n",
       "<table border=\"1\" class=\"dataframe\">\n",
       "  <thead>\n",
       "    <tr style=\"text-align: right;\">\n",
       "      <th></th>\n",
       "      <th>Mileage</th>\n",
       "      <th>Prod. year</th>\n",
       "      <th>Manufacturer_Ford</th>\n",
       "      <th>Model_Escape</th>\n",
       "      <th>Engine volume_6</th>\n",
       "    </tr>\n",
       "  </thead>\n",
       "  <tbody>\n",
       "    <tr>\n",
       "      <th>0</th>\n",
       "      <td>0.485617</td>\n",
       "      <td>2010</td>\n",
       "      <td>1</td>\n",
       "      <td>1</td>\n",
       "      <td>1</td>\n",
       "    </tr>\n",
       "  </tbody>\n",
       "</table>\n",
       "</div>"
      ],
      "text/plain": [
       "    Mileage  Prod. year  Manufacturer_Ford  Model_Escape  Engine volume_6\n",
       "0  0.485617        2010                  1             1                1"
      ]
     },
     "execution_count": 9,
     "metadata": {},
     "output_type": "execute_result"
    }
   ],
   "source": [
    "categorical_columns = [\"Manufacturer\" ,\"Model\", \"Engine volume\"]\n",
    "df_encoded = pd.get_dummies(df_test, columns=categorical_columns)\n",
    "df_encoded.head()"
   ]
  },
  {
   "cell_type": "code",
   "execution_count": 10,
   "id": "3da1f410",
   "metadata": {},
   "outputs": [
    {
     "data": {
      "text/plain": [
       "(1646,)"
      ]
     },
     "execution_count": 10,
     "metadata": {},
     "output_type": "execute_result"
    }
   ],
   "source": [
    "record = df_encoded.to_dict(orient=\"records\")[0]\n",
    "features = {} # df_test.to_dict(orient=\"records\")[0]\n",
    "# del features[\"Manufacturer\"]\n",
    "# del features[\"Model\"]\n",
    "# print(features)\n",
    "for col in all_cols:\n",
    "    if col not in df_encoded.columns:\n",
    "        features.update({col: 0})\n",
    "    else:\n",
    "        features.update({col: record[col]})\n",
    "df_test = pd.Series(features)\n",
    "df_test.shape"
   ]
  },
  {
   "cell_type": "code",
   "execution_count": 11,
   "id": "b0dfb8b5",
   "metadata": {},
   "outputs": [
    {
     "name": "stdout",
     "output_type": "stream",
     "text": [
      "[14613.41706497]\n"
     ]
    },
    {
     "name": "stderr",
     "output_type": "stream",
     "text": [
      "/Users/mmohammadi1/opt/anaconda3/lib/python3.9/site-packages/sklearn/base.py:450: UserWarning: X does not have valid feature names, but GradientBoostingRegressor was fitted with feature names\n",
      "  warnings.warn(\n"
     ]
    }
   ],
   "source": [
    "X_test = df_test.values.reshape(1, -1)\n",
    "pred = model.predict(X_test)\n",
    "print(pred)"
   ]
  },
  {
   "cell_type": "code",
   "execution_count": 12,
   "id": "bb39d0a1",
   "metadata": {},
   "outputs": [
    {
     "data": {
      "text/plain": [
       "Prod. year                 2010.000000\n",
       "Mileage                       0.485617\n",
       "Manufacturer_ACURA            0.000000\n",
       "Manufacturer_ALFA ROMEO       0.000000\n",
       "Manufacturer_AUDI             0.000000\n",
       "                              ...     \n",
       "Engine volume_6               1.000000\n",
       "Engine volume_6.2             0.000000\n",
       "Engine volume_6.3             0.000000\n",
       "Engine volume_6.4             0.000000\n",
       "Engine volume_7.3             0.000000\n",
       "Length: 1646, dtype: float64"
      ]
     },
     "execution_count": 12,
     "metadata": {},
     "output_type": "execute_result"
    }
   ],
   "source": [
    "df_test"
   ]
  },
  {
   "cell_type": "code",
   "execution_count": null,
   "id": "eabcae0a",
   "metadata": {},
   "outputs": [],
   "source": []
  }
 ],
 "metadata": {
  "kernelspec": {
   "display_name": "Python 3 (ipykernel)",
   "language": "python",
   "name": "python3"
  },
  "language_info": {
   "codemirror_mode": {
    "name": "ipython",
    "version": 3
   },
   "file_extension": ".py",
   "mimetype": "text/x-python",
   "name": "python",
   "nbconvert_exporter": "python",
   "pygments_lexer": "ipython3",
   "version": "3.9.7"
  }
 },
 "nbformat": 4,
 "nbformat_minor": 5
}
